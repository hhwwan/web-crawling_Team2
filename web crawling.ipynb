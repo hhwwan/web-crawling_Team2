{
 "cells": [
  {
   "cell_type": "code",
   "execution_count": 401,
   "metadata": {},
   "outputs": [],
   "source": [
    "# bs4불러오기\n",
    "import requests\n",
    "from bs4 import BeautifulSoup\n",
    "import time\n",
    "import pandas as pd\n",
    "from tqdm import tqdm\n",
    "import random"
   ]
  },
  {
   "cell_type": "code",
   "execution_count": 410,
   "metadata": {},
   "outputs": [
    {
     "name": "stderr",
     "output_type": "stream",
     "text": [
      " 48%|████▊     | 2817/5860 [50:32<58:04,  1.14s/it]  "
     ]
    },
    {
     "name": "stdout",
     "output_type": "stream",
     "text": [
      "2818페이지 에러 발생: HTTPSConnectionPool(host='www.10000recipe.com', port=443): Max retries exceeded with url: /recipe/list.html?order=reco&page=2818&User-Agent=Mozilla%2F5.0+%28Windows+NT+10.0%3B+Win64%3B+x64%29+AppleWebKit%2F537.36+%28KHTML%2C+like+Gecko%29+Chrome%2F131.0.0.0+Safari%2F537.36 (Caused by ConnectTimeoutError(<urllib3.connection.HTTPSConnection object at 0x0000021F84130DF0>, 'Connection to www.10000recipe.com timed out. (connect timeout=None)')), 재시도 중 (1/3)\n"
     ]
    },
    {
     "name": "stderr",
     "output_type": "stream",
     "text": [
      " 81%|████████  | 4726/5860 [1:25:36<22:08,  1.17s/it]"
     ]
    },
    {
     "name": "stdout",
     "output_type": "stream",
     "text": [
      "4727페이지 에러 발생: ('Connection aborted.', RemoteDisconnected('Remote end closed connection without response')), 재시도 중 (1/3)\n"
     ]
    },
    {
     "name": "stderr",
     "output_type": "stream",
     "text": [
      "100%|██████████| 5860/5860 [1:46:04<00:00,  1.09s/it]\n"
     ]
    }
   ],
   "source": [
    "user_agent = {\"User-Agent\":\"Mozilla/5.0 (Windows NT 10.0; Win64; x64) AppleWebKit/537.36 (KHTML, like Gecko) Chrome/131.0.0.0 Safari/537.36\"}\n",
    "\n",
    "def recipe_link_crawling(start_page,end_page):    \n",
    "    recipe_link = []\n",
    "    failed_pages = []\n",
    "    for i in tqdm(range(start_page,end_page)):\n",
    "        time.sleep(random.uniform(0.5,1))\n",
    "        for j in range(3):\n",
    "            try:\n",
    "                res = requests.get(f\"https://www.10000recipe.com/recipe/list.html?order=reco&page={i}\",user_agent)\n",
    "                if res.status_code != 200:\n",
    "                    print(f\"{i}페이지 요청 실패: {res.status_code}\")\n",
    "                    continue\n",
    "                soup = BeautifulSoup(res.text,\"html.parser\")\n",
    "                links = soup.find_all(\"a\", class_=\"common_sp_link\")\n",
    "                recipe_link += [i['href'].split('/')[-1] for i in links]\n",
    "                break\n",
    "            except requests.exceptions.RequestException as e:\n",
    "                print(f\"{i}페이지 에러 발생: {e}, 재시도 중 ({j+1}/3)\")\n",
    "                time.sleep(random.uniform(1, 2))\n",
    "        else:\n",
    "            failed_pages.append(i)\n",
    "    return recipe_link, failed_pages\n",
    "\n",
    "all_page_link,failed_page_link = recipe_link_crawling(1,5861)\n"
   ]
  },
  {
   "cell_type": "code",
   "execution_count": 470,
   "metadata": {},
   "outputs": [],
   "source": [
    "def safe_find(soup, selector, attr=None, multiple=False):\n",
    "    try:\n",
    "        if multiple:\n",
    "            elements = soup.select(selector)\n",
    "            return [e.text.strip() for e in elements] if elements else None\n",
    "        element = soup.select_one(selector)\n",
    "        return element.text.strip() if element else None\n",
    "    except Exception as e:\n",
    "        print(f\"Error extracting {selector}: {e}\")\n",
    "        return None\n",
    "    \n",
    "def fetch_page(url, retries=3, delay=2):\n",
    "    for attempt in range(retries):\n",
    "        try:\n",
    "            response = requests.get(url)\n",
    "            response.raise_for_status()\n",
    "            return response\n",
    "        except requests.exceptions.RequestException as e:\n",
    "            print(f\"Error fetching {url} (attempt {attempt+1}): {e}\")\n",
    "            time.sleep(delay)\n",
    "    return None\n",
    "\n",
    "def recipe_crawler(num_list):\n",
    "    title, view, serving, cooking_time, level, ingredients = [], [], [], [], [], []\n",
    "\n",
    "    for i in tqdm(num_list):\n",
    "        res = fetch_page(f\"https://www.10000recipe.com/recipe/{i}\")\n",
    "        if res is None:\n",
    "            print(f\"Skipping recipe {i} due to repeated errors.\")\n",
    "            title.append(None)\n",
    "            view.append(None)\n",
    "            serving.append(None)\n",
    "            cooking_time.append(None)\n",
    "            level.append(None)\n",
    "            ingredients.append(None)\n",
    "            continue\n",
    "\n",
    "        soup = BeautifulSoup(res.text, \"html.parser\")\n",
    "        \n",
    "        title.append(safe_find(soup, \"div.view2_summary.st3 h3\"))\n",
    "        view.append(safe_find(soup, \"span.hit.font_num\"))\n",
    "        serving.append(safe_find(soup, \"span.view2_summary_info1\"))\n",
    "        cooking_time.append(safe_find(soup, \"span.view2_summary_info2\"))\n",
    "        level.append(safe_find(soup, \"span.view2_summary_info3\"))\n",
    "        \n",
    "        ingredient_data = []\n",
    "        for name, qty in zip(\n",
    "            soup.select(\"#divConfirmedMaterialArea .ingre_list_name\"),\n",
    "            soup.select(\"#divConfirmedMaterialArea .ingre_list_ea\")\n",
    "        ):\n",
    "            ingredient_data.append({\"name\": name.text.strip().split()[0], \"quantity\": qty.text.strip()})\n",
    "        ingredients.append(ingredient_data if ingredient_data else None)\n",
    "        \n",
    "        time.sleep(random.uniform(0.5, 1))\n",
    "\n",
    "    return title, view, serving, cooking_time, level, ingredients"
   ]
  },
  {
   "cell_type": "code",
   "execution_count": null,
   "metadata": {},
   "outputs": [
    {
     "name": "stdout",
     "output_type": "stream",
     "text": [
      "234400\n"
     ]
    }
   ],
   "source": [
    "# with open('data.pickle','wb') as fw:\n",
    "#     pickle.dump(all_page_link, fw)\n",
    "\n",
    "import pickle\n",
    "with open(\"data.pickle\",\"rb\") as fr:\n",
    "    data = pickle.load(fr)\n",
    "print(len(data))"
   ]
  },
  {
   "cell_type": "code",
   "execution_count": null,
   "metadata": {},
   "outputs": [],
   "source": [
    "title, view, serving, cooking_time, level, ingredients = recipe_crawler(data)"
   ]
  },
  {
   "cell_type": "code",
   "execution_count": null,
   "metadata": {},
   "outputs": [],
   "source": [
    "recipe_df = pd.DataFrame(\n",
    "    {\"레시피번호\":,\n",
    "    \"제목\":title,\n",
    "    \"조회수\":view,\n",
    "    \"식사량\":serving,\n",
    "    \"조리시간\":cooking_time,\n",
    "    \"난이도\":level,\n",
    "    \"재료\":[[item['name']for item in recipe] for recipe in ingredients],\n",
    "    \"재료의양\":[[item['quantity']for item in recipe] for recipe in ingredients]})"
   ]
  },
  {
   "cell_type": "code",
   "execution_count": 482,
   "metadata": {},
   "outputs": [
    {
     "data": {
      "text/html": [
       "<div>\n",
       "<style scoped>\n",
       "    .dataframe tbody tr th:only-of-type {\n",
       "        vertical-align: middle;\n",
       "    }\n",
       "\n",
       "    .dataframe tbody tr th {\n",
       "        vertical-align: top;\n",
       "    }\n",
       "\n",
       "    .dataframe thead th {\n",
       "        text-align: right;\n",
       "    }\n",
       "</style>\n",
       "<table border=\"1\" class=\"dataframe\">\n",
       "  <thead>\n",
       "    <tr style=\"text-align: right;\">\n",
       "      <th></th>\n",
       "      <th>레시피번호</th>\n",
       "      <th>제목</th>\n",
       "      <th>조회수</th>\n",
       "      <th>식사량</th>\n",
       "      <th>조리시간</th>\n",
       "      <th>난이도</th>\n",
       "      <th>재료</th>\n",
       "      <th>재료의양</th>\n",
       "    </tr>\n",
       "  </thead>\n",
       "  <tbody>\n",
       "    <tr>\n",
       "      <th>0</th>\n",
       "      <td>7039682</td>\n",
       "      <td>[가지양념구이] 간단하지만 맛있는 황금레시피 | 신혼밥상</td>\n",
       "      <td>154</td>\n",
       "      <td>2인분</td>\n",
       "      <td>30분 이내</td>\n",
       "      <td>초급</td>\n",
       "      <td>[가지, 물, 밀가루, 진간장, 식초, 다진마늘, 꿀, 물, 청양고추]</td>\n",
       "      <td>[2개, 60ml, 2T, 2T, 1T, 1/2T, 2T, 3T, 조금]</td>\n",
       "    </tr>\n",
       "    <tr>\n",
       "      <th>1</th>\n",
       "      <td>7039214</td>\n",
       "      <td>치킨너겟 교촌 허니콤보 만들기</td>\n",
       "      <td>545</td>\n",
       "      <td>1인분</td>\n",
       "      <td>15분 이내</td>\n",
       "      <td>초급</td>\n",
       "      <td>[치킨너겟, 진간장, 맛술, 물, 다진마늘, 꿀, 굴소스]</td>\n",
       "      <td>[11개, 1T, 1T, 1T, 0.3T, 1T, 0.5T]</td>\n",
       "    </tr>\n",
       "    <tr>\n",
       "      <th>2</th>\n",
       "      <td>6984517</td>\n",
       "      <td>도시락 반찬으로 최고! 스팸감자조림♡</td>\n",
       "      <td>72,882</td>\n",
       "      <td>2인분</td>\n",
       "      <td>10분 이내</td>\n",
       "      <td>초급</td>\n",
       "      <td>[감자, 스팸, 진간장, 설탕, 후추, 올리고당, 다진마늘, 물]</td>\n",
       "      <td>[2개, 200g, 4스푼, 4스푼, 조금, 1스푼, 1스푼, 120ml]</td>\n",
       "    </tr>\n",
       "  </tbody>\n",
       "</table>\n",
       "</div>"
      ],
      "text/plain": [
       "     레시피번호                               제목     조회수  식사량    조리시간 난이도  \\\n",
       "0  7039682  [가지양념구이] 간단하지만 맛있는 황금레시피 | 신혼밥상     154  2인분  30분 이내  초급   \n",
       "1  7039214                 치킨너겟 교촌 허니콤보 만들기     545  1인분  15분 이내  초급   \n",
       "2  6984517             도시락 반찬으로 최고! 스팸감자조림♡  72,882  2인분  10분 이내  초급   \n",
       "\n",
       "                                        재료  \\\n",
       "0  [가지, 물, 밀가루, 진간장, 식초, 다진마늘, 꿀, 물, 청양고추]   \n",
       "1         [치킨너겟, 진간장, 맛술, 물, 다진마늘, 꿀, 굴소스]   \n",
       "2     [감자, 스팸, 진간장, 설탕, 후추, 올리고당, 다진마늘, 물]   \n",
       "\n",
       "                                        재료의양  \n",
       "0   [2개, 60ml, 2T, 2T, 1T, 1/2T, 2T, 3T, 조금]  \n",
       "1          [11개, 1T, 1T, 1T, 0.3T, 1T, 0.5T]  \n",
       "2  [2개, 200g, 4스푼, 4스푼, 조금, 1스푼, 1스푼, 120ml]  "
      ]
     },
     "execution_count": 482,
     "metadata": {},
     "output_type": "execute_result"
    }
   ],
   "source": [
    "recipe_df"
   ]
  }
 ],
 "metadata": {
  "kernelspec": {
   "display_name": "Python 3",
   "language": "python",
   "name": "python3"
  },
  "language_info": {
   "codemirror_mode": {
    "name": "ipython",
    "version": 3
   },
   "file_extension": ".py",
   "mimetype": "text/x-python",
   "name": "python",
   "nbconvert_exporter": "python",
   "pygments_lexer": "ipython3",
   "version": "3.10.11"
  }
 },
 "nbformat": 4,
 "nbformat_minor": 2
}
